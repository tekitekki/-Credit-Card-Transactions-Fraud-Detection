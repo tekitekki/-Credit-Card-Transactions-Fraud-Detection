{
 "cells": [
  {
   "cell_type": "code",
   "execution_count": 1,
   "metadata": {
    "scrolled": true
   },
   "outputs": [],
   "source": [
    "import pandas as pd\n",
    "import numpy as np\n",
    "import timeit\n",
    "import datetime as dt\n",
    "from math import exp\n",
    "import matplotlib.pyplot as plt\n",
    "import seaborn as sns\n",
    "\n",
    "import warnings\n",
    "warnings.filterwarnings(\"ignore\")\n",
    "\n",
    "sns.set(font_scale=1.5)\n",
    "plt.rcParams[\"figure.figsize\"] = (12,8)\n",
    "\n",
    "start_time = dt.datetime.now()"
   ]
  },
  {
   "cell_type": "code",
   "execution_count": 2,
   "metadata": {},
   "outputs": [
    {
     "data": {
      "text/html": [
       "<div>\n",
       "<style scoped>\n",
       "    .dataframe tbody tr th:only-of-type {\n",
       "        vertical-align: middle;\n",
       "    }\n",
       "\n",
       "    .dataframe tbody tr th {\n",
       "        vertical-align: top;\n",
       "    }\n",
       "\n",
       "    .dataframe thead th {\n",
       "        text-align: right;\n",
       "    }\n",
       "</style>\n",
       "<table border=\"1\" class=\"dataframe\">\n",
       "  <thead>\n",
       "    <tr style=\"text-align: right;\">\n",
       "      <th></th>\n",
       "      <th>Recnum</th>\n",
       "      <th>Cardnum</th>\n",
       "      <th>Date</th>\n",
       "      <th>Merchnum</th>\n",
       "      <th>Merch description</th>\n",
       "      <th>Merch state</th>\n",
       "      <th>Merch zip</th>\n",
       "      <th>Transtype</th>\n",
       "      <th>Amount</th>\n",
       "      <th>Fraud</th>\n",
       "    </tr>\n",
       "  </thead>\n",
       "  <tbody>\n",
       "    <tr>\n",
       "      <th>0</th>\n",
       "      <td>1</td>\n",
       "      <td>5142190439</td>\n",
       "      <td>2006-01-01</td>\n",
       "      <td>5509006296254</td>\n",
       "      <td>FEDEX SHP 12/23/09 AB#</td>\n",
       "      <td>TN</td>\n",
       "      <td>38118.0</td>\n",
       "      <td>P</td>\n",
       "      <td>3.62</td>\n",
       "      <td>0</td>\n",
       "    </tr>\n",
       "    <tr>\n",
       "      <th>1</th>\n",
       "      <td>2</td>\n",
       "      <td>5142183973</td>\n",
       "      <td>2006-01-01</td>\n",
       "      <td>61003026333</td>\n",
       "      <td>SERVICE MERCHANDISE #81</td>\n",
       "      <td>MA</td>\n",
       "      <td>1803.0</td>\n",
       "      <td>P</td>\n",
       "      <td>31.42</td>\n",
       "      <td>0</td>\n",
       "    </tr>\n",
       "    <tr>\n",
       "      <th>2</th>\n",
       "      <td>3</td>\n",
       "      <td>5142131721</td>\n",
       "      <td>2006-01-01</td>\n",
       "      <td>4503082993600</td>\n",
       "      <td>OFFICE DEPOT #191</td>\n",
       "      <td>MD</td>\n",
       "      <td>20706.0</td>\n",
       "      <td>P</td>\n",
       "      <td>178.49</td>\n",
       "      <td>0</td>\n",
       "    </tr>\n",
       "    <tr>\n",
       "      <th>3</th>\n",
       "      <td>4</td>\n",
       "      <td>5142148452</td>\n",
       "      <td>2006-01-01</td>\n",
       "      <td>5509006296254</td>\n",
       "      <td>FEDEX SHP 12/28/09 AB#</td>\n",
       "      <td>TN</td>\n",
       "      <td>38118.0</td>\n",
       "      <td>P</td>\n",
       "      <td>3.62</td>\n",
       "      <td>0</td>\n",
       "    </tr>\n",
       "    <tr>\n",
       "      <th>4</th>\n",
       "      <td>5</td>\n",
       "      <td>5142190439</td>\n",
       "      <td>2006-01-01</td>\n",
       "      <td>5509006296254</td>\n",
       "      <td>FEDEX SHP 12/23/09 AB#</td>\n",
       "      <td>TN</td>\n",
       "      <td>38118.0</td>\n",
       "      <td>P</td>\n",
       "      <td>3.62</td>\n",
       "      <td>0</td>\n",
       "    </tr>\n",
       "  </tbody>\n",
       "</table>\n",
       "</div>"
      ],
      "text/plain": [
       "   Recnum     Cardnum        Date       Merchnum        Merch description  \\\n",
       "0       1  5142190439  2006-01-01  5509006296254   FEDEX SHP 12/23/09 AB#   \n",
       "1       2  5142183973  2006-01-01    61003026333  SERVICE MERCHANDISE #81   \n",
       "2       3  5142131721  2006-01-01  4503082993600        OFFICE DEPOT #191   \n",
       "3       4  5142148452  2006-01-01  5509006296254   FEDEX SHP 12/28/09 AB#   \n",
       "4       5  5142190439  2006-01-01  5509006296254   FEDEX SHP 12/23/09 AB#   \n",
       "\n",
       "  Merch state Merch zip Transtype  Amount  Fraud  \n",
       "0          TN   38118.0         P    3.62      0  \n",
       "1          MA    1803.0         P   31.42      0  \n",
       "2          MD   20706.0         P  178.49      0  \n",
       "3          TN   38118.0         P    3.62      0  \n",
       "4          TN   38118.0         P    3.62      0  "
      ]
     },
     "execution_count": 2,
     "metadata": {},
     "output_type": "execute_result"
    }
   ],
   "source": [
    "df = pd.read_csv('transactions_clean.csv',index_col=0)\n",
    "df.head()"
   ]
  },
  {
   "cell_type": "code",
   "execution_count": 3,
   "metadata": {},
   "outputs": [
    {
     "name": "stdout",
     "output_type": "stream",
     "text": [
      "<class 'pandas.core.frame.DataFrame'>\n",
      "Int64Index: 96397 entries, 0 to 96752\n",
      "Data columns (total 10 columns):\n",
      " #   Column             Non-Null Count  Dtype         \n",
      "---  ------             --------------  -----         \n",
      " 0   Recnum             96397 non-null  int64         \n",
      " 1   Cardnum            96397 non-null  object        \n",
      " 2   Date               96397 non-null  datetime64[ns]\n",
      " 3   Merchnum           96397 non-null  object        \n",
      " 4   Merch description  96397 non-null  object        \n",
      " 5   Merch state        96397 non-null  object        \n",
      " 6   Merch zip          96397 non-null  object        \n",
      " 7   Transtype          96397 non-null  object        \n",
      " 8   Amount             96397 non-null  float64       \n",
      " 9   Fraud              96397 non-null  int64         \n",
      "dtypes: datetime64[ns](1), float64(1), int64(2), object(6)\n",
      "memory usage: 8.1+ MB\n"
     ]
    }
   ],
   "source": [
    "df['Date'] = pd.to_datetime(df['Date'])\n",
    "df['Cardnum'] = df['Cardnum'].apply(str)\n",
    "df.info()"
   ]
  },
  {
   "cell_type": "markdown",
   "metadata": {},
   "source": [
    "# I. Risk variables - 2"
   ]
  },
  {
   "cell_type": "markdown",
   "metadata": {},
   "source": [
    "## 1. Day of week"
   ]
  },
  {
   "cell_type": "code",
   "execution_count": 4,
   "metadata": {},
   "outputs": [],
   "source": [
    "df['Dow'] = df['Date'].dt.day_name()"
   ]
  },
  {
   "cell_type": "code",
   "execution_count": 5,
   "metadata": {},
   "outputs": [],
   "source": [
    "## we want to not use the oot for target encoding variables\n",
    "train_test = df[df.Date < '2006-11-01']\n",
    "c = 4\n",
    "nmid = 20\n",
    "y_avg = train_test['Fraud'].mean()"
   ]
  },
  {
   "cell_type": "code",
   "execution_count": 6,
   "metadata": {
    "scrolled": false
   },
   "outputs": [],
   "source": [
    "y_dow = train_test.groupby('Dow')['Fraud'].mean()\n",
    "\n",
    "# statistical smoothing\n",
    "num = train_test.groupby('Dow').size()\n",
    "y_dow_smooth = y_avg + (y_dow - y_avg)/(1 + np.exp(-(num - nmid)/c))\n",
    "df['Dow_Risk'] = df['Dow'].map(y_dow_smooth)"
   ]
  },
  {
   "cell_type": "code",
   "execution_count": 7,
   "metadata": {},
   "outputs": [
    {
     "data": {
      "text/html": [
       "<div>\n",
       "<style scoped>\n",
       "    .dataframe tbody tr th:only-of-type {\n",
       "        vertical-align: middle;\n",
       "    }\n",
       "\n",
       "    .dataframe tbody tr th {\n",
       "        vertical-align: top;\n",
       "    }\n",
       "\n",
       "    .dataframe thead th {\n",
       "        text-align: right;\n",
       "    }\n",
       "</style>\n",
       "<table border=\"1\" class=\"dataframe\">\n",
       "  <thead>\n",
       "    <tr style=\"text-align: right;\">\n",
       "      <th></th>\n",
       "      <th>Fraud</th>\n",
       "    </tr>\n",
       "    <tr>\n",
       "      <th>Dow</th>\n",
       "      <th></th>\n",
       "    </tr>\n",
       "  </thead>\n",
       "  <tbody>\n",
       "    <tr>\n",
       "      <th>Friday</th>\n",
       "      <td>0.009788</td>\n",
       "    </tr>\n",
       "    <tr>\n",
       "      <th>Monday</th>\n",
       "      <td>0.010095</td>\n",
       "    </tr>\n",
       "    <tr>\n",
       "      <th>Saturday</th>\n",
       "      <td>0.018626</td>\n",
       "    </tr>\n",
       "    <tr>\n",
       "      <th>Sunday</th>\n",
       "      <td>0.025994</td>\n",
       "    </tr>\n",
       "    <tr>\n",
       "      <th>Thursday</th>\n",
       "      <td>0.007127</td>\n",
       "    </tr>\n",
       "    <tr>\n",
       "      <th>Tuesday</th>\n",
       "      <td>0.009630</td>\n",
       "    </tr>\n",
       "    <tr>\n",
       "      <th>Wednesday</th>\n",
       "      <td>0.008711</td>\n",
       "    </tr>\n",
       "  </tbody>\n",
       "</table>\n",
       "</div>"
      ],
      "text/plain": [
       "              Fraud\n",
       "Dow                \n",
       "Friday     0.009788\n",
       "Monday     0.010095\n",
       "Saturday   0.018626\n",
       "Sunday     0.025994\n",
       "Thursday   0.007127\n",
       "Tuesday    0.009630\n",
       "Wednesday  0.008711"
      ]
     },
     "execution_count": 7,
     "metadata": {},
     "output_type": "execute_result"
    }
   ],
   "source": [
    "y_dow=y_dow.reset_index()\n",
    "y_dow=y_dow.set_index('Dow')\n",
    "y_dow"
   ]
  },
  {
   "cell_type": "code",
   "execution_count": 8,
   "metadata": {},
   "outputs": [
    {
     "data": {
      "image/png": "[encoded data removed]",
      "text/plain": [
       "<Figure size 1440x720 with 1 Axes>"
      ]
     },
     "metadata": {
      "needs_background": "light"
     },
     "output_type": "display_data"
    }
   ],
   "source": [
    "fig, ax = plt.subplots(figsize=(20,10))\n",
    "plt.bar(data = y_dow, x = y_dow.index, height = 'Fraud')\n",
    "#ax.set_ylim(bottom = 0.013)\n",
    "ax.axhline(y = y_avg, ls = '--', lw = 2, label=\"Average Fraud Population\")\n",
    "\n",
    "for i, v in enumerate(y_dow.index):\n",
    "    ax.text(v,y_dow.loc[v,'Fraud']+0.0001,round(y_dow.loc[v,'Fraud'],5),horizontalalignment='center')\n",
    "\n",
    "plt.legend()\n",
    "plt.xlabel(\"Day of Week\")\n",
    "plt.ylabel(\"Percentage\")\n",
    "plt.title(\"Fraud Proportion of Each Weekday\")\n",
    "plt.show()"
   ]
  },
  {
   "cell_type": "markdown",
   "metadata": {},
   "source": [
    "## 2. Merchant state"
   ]
  },
  {
   "cell_type": "code",
   "execution_count": 9,
   "metadata": {},
   "outputs": [],
   "source": [
    "y_state = train_test.groupby('Merch state')['Fraud'].mean()\n",
    "\n",
    "# statistical smoothing\n",
    "num = train_test.groupby('Merch state').size()\n",
    "y_state_smooth = y_avg + (y_state - y_avg)/(1 + np.exp(-(num-nmid)/c))\n",
    "df['state_risk'] = df['Merch state'].map(y_state_smooth)"
   ]
  },
  {
   "cell_type": "code",
   "execution_count": 10,
   "metadata": {},
   "outputs": [
    {
     "data": {
      "image/png": "[encoded data removed]",
      "text/plain": [
       "<Figure size 1440x720 with 1 Axes>"
      ]
     },
     "metadata": {
      "needs_background": "light"
     },
     "output_type": "display_data"
    }
   ],
   "source": [
    "top15_states = pd.DataFrame(y_state.sort_values(ascending=False).head(15))\n",
    "fig, ax = plt.subplots(figsize=(20,10))\n",
    "plt.bar(data=top15_states, x=top15_states.index, height='Fraud')\n",
    "plt.title('Top 15 Fraud Merchant State with Highest Fraud Percentage')\n",
    "plt.xlabel('Merchant State')\n",
    "plt.ylabel('Fraud Percentage')\n",
    "ax.axhline(y=y_avg, ls='--')\n",
    "plt.show()"
   ]
  },
  {
   "cell_type": "markdown",
   "metadata": {},
   "source": [
    "# II. Create entities"
   ]
  },
  {
   "cell_type": "code",
   "execution_count": 11,
   "metadata": {},
   "outputs": [],
   "source": [
    "### add leading 0 to zips\n",
    "### note: there are some zips that are state abbrv. as we imputed them ealier, so pandas read the column as str\n",
    "\n",
    "# def leading_0(x):\n",
    "    \n",
    "#     if '.0' in x:\n",
    "#         x = x[:-2]\n",
    "#         if len(x) == 5:\n",
    "#             return x\n",
    "#         else: \n",
    "#             return '0'*(5-len(x)) + x\n",
    "#     else:\n",
    "#         return '0'*(5-len(x)) + x\n",
    "\n",
    "# df['Merch zip'] = df['Merch zip'].apply(leading_0)"
   ]
  },
  {
   "cell_type": "code",
   "execution_count": 12,
   "metadata": {},
   "outputs": [],
   "source": [
    "### delete white spaces in merch description\n",
    "df['Merch description'] = df['Merch description'].str.replace(r'\\s', '')"
   ]
  },
  {
   "cell_type": "code",
   "execution_count": 13,
   "metadata": {},
   "outputs": [],
   "source": [
    "df['card_merch'] = df['Cardnum'] + df['Merchnum']\n",
    "df['card_zip'] = df['Cardnum'] + df['Merch zip']\n",
    "# df['card_state'] = df['Cardnum'] + df['Merch state']\n",
    "df['merch_zip'] = df['Merchnum'] + df['Merch zip']\n",
    "# df['merch_state'] = df['Merchnum'] + df['Merch state']\n",
    "# df['state_des'] = df['Merch state'] + df['Merch description']\n",
    "\n",
    "# these next two entities take a long time to calculate the variables for, and I don't know why\n",
    "# df['state_zip'] = df['Merch state'] + df['Merch zip']\n",
    "df['zip3'] = df['Merch zip'].str[:3]\n",
    "\n",
    "df['card_zip3'] = df.Cardnum + df['zip3']\n",
    "# df['merchnum_zip'] = df.Merchnum + df['Merch zip']\n",
    "# df['merchnum_zip3'] = df.Merchnum + df['zip3']\n",
    "\n",
    "df['Card_Merchdesc'] = df['Cardnum'] + df['Merch description']\n",
    "# df['Card_dow'] = df['Cardnum'] + df['Dow']\n",
    "df['Merchnum_desc'] = df['Merchnum'] + df['Merch description']\n",
    "# df['Merchnum_dow'] = df['Merchnum'] + df['Dow']\n",
    "# df['Merchdesc_State'] = df['Merch description'] + df['Merch state']\n",
    "# df['Merchdesc_Zip'] = df['Merch description'] + df['Merch zip']\n",
    "# df['Merchdesc_dow'] = df['Merch description'] + df['Dow']\n",
    "df['Card_Merchnum_desc'] = df['Cardnum'] + df['Merchnum'] + df['Merch description']\n",
    "# df['Card_Merchnum_State'] = df['Cardnum'] + df['Merchnum'] + df['Merch state']\n",
    "# df['Card_Merchnum_Zip'] = df['Cardnum'] + df['Merchnum'] + df['Merch zip']\n",
    "# df['Card_Merchdesc_State'] = df['Cardnum'] + df['Merch description'] + df['Merch state']\n",
    "# df['Card_Merchdesc_Zip'] = df['Cardnum'] + df['Merch description'] + df['Merch zip']\n",
    "# df['Merchnum_desc_State'] = df['Merchnum'] + df['Merch description'] + df['Merch state']\n",
    "# df['Merchnum_desc_Zip'] = df['Merchnum'] + df['Merch description'] + df['Merch zip']"
   ]
  },
  {
   "cell_type": "code",
   "execution_count": 14,
   "metadata": {},
   "outputs": [
    {
     "data": {
      "text/plain": [
       "Index(['Recnum', 'Cardnum', 'Date', 'Merchnum', 'Merch description',\n",
       "       'Merch state', 'Merch zip', 'Transtype', 'Amount', 'Fraud', 'Dow',\n",
       "       'Dow_Risk', 'state_risk', 'card_merch', 'card_zip', 'merch_zip', 'zip3',\n",
       "       'card_zip3', 'Card_Merchdesc', 'Merchnum_desc', 'Card_Merchnum_desc'],\n",
       "      dtype='object')"
      ]
     },
     "execution_count": 14,
     "metadata": {},
     "output_type": "execute_result"
    }
   ],
   "source": [
    "df.columns"
   ]
  },
  {
   "cell_type": "code",
   "execution_count": 15,
   "metadata": {},
   "outputs": [],
   "source": [
    "entities = list(df.iloc[:, np.r_[1, 3, 13:len(df.columns)]].columns)"
   ]
  },
  {
   "cell_type": "code",
   "execution_count": 16,
   "metadata": {
    "scrolled": false
   },
   "outputs": [
    {
     "data": {
      "text/plain": [
       "['Cardnum',\n",
       " 'Merchnum',\n",
       " 'card_merch',\n",
       " 'card_zip',\n",
       " 'merch_zip',\n",
       " 'zip3',\n",
       " 'card_zip3',\n",
       " 'Card_Merchdesc',\n",
       " 'Merchnum_desc',\n",
       " 'Card_Merchnum_desc']"
      ]
     },
     "execution_count": 16,
     "metadata": {},
     "output_type": "execute_result"
    }
   ],
   "source": [
    "entities"
   ]
  },
  {
   "cell_type": "code",
   "execution_count": 17,
   "metadata": {},
   "outputs": [],
   "source": [
    "df1 = df.copy()\n",
    "final = df.copy()\n",
    "df1['check_date'] = df1.Date\n",
    "df1['check_record'] = df1.Recnum\n",
    "numstart = len(final.columns)"
   ]
  },
  {
   "cell_type": "markdown",
   "metadata": {},
   "source": [
    "# III. Days since and Amount variables - 640"
   ]
  },
  {
   "cell_type": "code",
   "execution_count": 18,
   "metadata": {
    "scrolled": false
   },
   "outputs": [
    {
     "name": "stdout",
     "output_type": "stream",
     "text": [
      "\n",
      "\n",
      "Cardnum_day_since ---> Done\n",
      "Cardnum_count_0 ---> Done\n",
      "Cardnum amount variables over past 0 ---> Done\n",
      "Cardnum_count_1 ---> Done\n",
      "Cardnum amount variables over past 1 ---> Done\n",
      "Cardnum_count_3 ---> Done\n",
      "Cardnum amount variables over past 3 ---> Done\n",
      "Cardnum_count_7 ---> Done\n",
      "Cardnum amount variables over past 7 ---> Done\n",
      "Cardnum_count_14 ---> Done\n",
      "Cardnum amount variables over past 14 ---> Done\n",
      "Cardnum_count_30 ---> Done\n",
      "Cardnum amount variables over past 30 ---> Done\n",
      "Cardnum_count_60 ---> Done\n",
      "Cardnum amount variables over past 60 ---> Done\n",
      "Merchnum Run time for the this entity ----------------- 7.385962917003781s\n",
      "\n",
      "Merchnum_day_since ---> Done\n",
      "Merchnum_count_0 ---> Done\n",
      "Merchnum amount variables over past 0 ---> Done\n",
      "Merchnum_count_1 ---> Done\n",
      "Merchnum amount variables over past 1 ---> Done\n",
      "Merchnum_count_3 ---> Done\n",
      "Merchnum amount variables over past 3 ---> Done\n",
      "Merchnum_count_7 ---> Done\n",
      "Merchnum amount variables over past 7 ---> Done\n",
      "Merchnum_count_14 ---> Done\n",
      "Merchnum amount variables over past 14 ---> Done\n",
      "Merchnum_count_30 ---> Done\n",
      "Merchnum amount variables over past 30 ---> Done\n",
      "Merchnum_count_60 ---> Done\n",
      "Merchnum amount variables over past 60 ---> Done\n",
      "card_merch Run time for the this entity ----------------- 40.914951352984644s\n",
      "\n",
      "card_merch_day_since ---> Done\n",
      "card_merch_count_0 ---> Done\n",
      "card_merch amount variables over past 0 ---> Done\n",
      "card_merch_count_1 ---> Done\n",
      "card_merch amount variables over past 1 ---> Done\n",
      "card_merch_count_3 ---> Done\n",
      "card_merch amount variables over past 3 ---> Done\n",
      "card_merch_count_7 ---> Done\n",
      "card_merch amount variables over past 7 ---> Done\n",
      "card_merch_count_14 ---> Done\n",
      "card_merch amount variables over past 14 ---> Done\n",
      "card_merch_count_30 ---> Done\n",
      "card_merch amount variables over past 30 ---> Done\n",
      "card_merch_count_60 ---> Done\n",
      "card_merch amount variables over past 60 ---> Done\n",
      "card_zip Run time for the this entity ----------------- 2.944877313100733s\n",
      "\n",
      "card_zip_day_since ---> Done\n",
      "card_zip_count_0 ---> Done\n",
      "card_zip amount variables over past 0 ---> Done\n",
      "card_zip_count_1 ---> Done\n",
      "card_zip amount variables over past 1 ---> Done\n",
      "card_zip_count_3 ---> Done\n",
      "card_zip amount variables over past 3 ---> Done\n",
      "card_zip_count_7 ---> Done\n",
      "card_zip amount variables over past 7 ---> Done\n",
      "card_zip_count_14 ---> Done\n",
      "card_zip amount variables over past 14 ---> Done\n",
      "card_zip_count_30 ---> Done\n",
      "card_zip amount variables over past 30 ---> Done\n",
      "card_zip_count_60 ---> Done\n",
      "card_zip amount variables over past 60 ---> Done\n",
      "merch_zip Run time for the this entity ----------------- 3.3884347380371764s\n",
      "\n",
      "merch_zip_day_since ---> Done\n",
      "merch_zip_count_0 ---> Done\n",
      "merch_zip amount variables over past 0 ---> Done\n",
      "merch_zip_count_1 ---> Done\n",
      "merch_zip amount variables over past 1 ---> Done\n",
      "merch_zip_count_3 ---> Done\n",
      "merch_zip amount variables over past 3 ---> Done\n",
      "merch_zip_count_7 ---> Done\n",
      "merch_zip amount variables over past 7 ---> Done\n",
      "merch_zip_count_14 ---> Done\n",
      "merch_zip amount variables over past 14 ---> Done\n",
      "merch_zip_count_30 ---> Done\n",
      "merch_zip amount variables over past 30 ---> Done\n",
      "merch_zip_count_60 ---> Done\n",
      "merch_zip amount variables over past 60 ---> Done\n",
      "zip3 Run time for the this entity ----------------- 40.84514391294215s\n",
      "\n",
      "zip3_day_since ---> Done\n",
      "zip3_count_0 ---> Done\n",
      "zip3 amount variables over past 0 ---> Done\n",
      "zip3_count_1 ---> Done\n",
      "zip3 amount variables over past 1 ---> Done\n",
      "zip3_count_3 ---> Done\n",
      "zip3 amount variables over past 3 ---> Done\n",
      "zip3_count_7 ---> Done\n",
      "zip3 amount variables over past 7 ---> Done\n",
      "zip3_count_14 ---> Done\n",
      "zip3 amount variables over past 14 ---> Done\n",
      "zip3_count_30 ---> Done\n",
      "zip3 amount variables over past 30 ---> Done\n",
      "zip3_count_60 ---> Done\n",
      "zip3 amount variables over past 60 ---> Done\n",
      "card_zip3 Run time for the this entity ----------------- 77.36520900402684s\n",
      "\n",
      "card_zip3_day_since ---> Done\n",
      "card_zip3_count_0 ---> Done\n",
      "card_zip3 amount variables over past 0 ---> Done\n",
      "card_zip3_count_1 ---> Done\n",
      "card_zip3 amount variables over past 1 ---> Done\n",
      "card_zip3_count_3 ---> Done\n",
      "card_zip3 amount variables over past 3 ---> Done\n",
      "card_zip3_count_7 ---> Done\n",
      "card_zip3 amount variables over past 7 ---> Done\n",
      "card_zip3_count_14 ---> Done\n",
      "card_zip3 amount variables over past 14 ---> Done\n",
      "card_zip3_count_30 ---> Done\n",
      "card_zip3 amount variables over past 30 ---> Done\n",
      "card_zip3_count_60 ---> Done\n",
      "card_zip3 amount variables over past 60 ---> Done\n",
      "Card_Merchdesc Run time for the this entity ----------------- 3.6743953028926626s\n",
      "\n",
      "Card_Merchdesc_day_since ---> Done\n",
      "Card_Merchdesc_count_0 ---> Done\n",
      "Card_Merchdesc amount variables over past 0 ---> Done\n",
      "Card_Merchdesc_count_1 ---> Done\n",
      "Card_Merchdesc amount variables over past 1 ---> Done\n",
      "Card_Merchdesc_count_3 ---> Done\n",
      "Card_Merchdesc amount variables over past 3 ---> Done\n",
      "Card_Merchdesc_count_7 ---> Done\n",
      "Card_Merchdesc amount variables over past 7 ---> Done\n",
      "Card_Merchdesc_count_14 ---> Done\n",
      "Card_Merchdesc amount variables over past 14 ---> Done\n",
      "Card_Merchdesc_count_30 ---> Done\n",
      "Card_Merchdesc amount variables over past 30 ---> Done\n",
      "Card_Merchdesc_count_60 ---> Done\n",
      "Card_Merchdesc amount variables over past 60 ---> Done\n",
      "Merchnum_desc Run time for the this entity ----------------- 2.151929951971397s\n",
      "\n",
      "Merchnum_desc_day_since ---> Done\n",
      "Merchnum_desc_count_0 ---> Done\n",
      "Merchnum_desc amount variables over past 0 ---> Done\n",
      "Merchnum_desc_count_1 ---> Done\n",
      "Merchnum_desc amount variables over past 1 ---> Done\n",
      "Merchnum_desc_count_3 ---> Done\n",
      "Merchnum_desc amount variables over past 3 ---> Done\n",
      "Merchnum_desc_count_7 ---> Done\n",
      "Merchnum_desc amount variables over past 7 ---> Done\n",
      "Merchnum_desc_count_14 ---> Done\n",
      "Merchnum_desc amount variables over past 14 ---> Done\n",
      "Merchnum_desc_count_30 ---> Done\n",
      "Merchnum_desc amount variables over past 30 ---> Done\n",
      "Merchnum_desc_count_60 ---> Done\n",
      "Merchnum_desc amount variables over past 60 ---> Done\n",
      "Card_Merchnum_desc Run time for the this entity ----------------- 8.127283187932335s\n",
      "\n",
      "Card_Merchnum_desc_day_since ---> Done\n",
      "Card_Merchnum_desc_count_0 ---> Done\n",
      "Card_Merchnum_desc amount variables over past 0 ---> Done\n",
      "Card_Merchnum_desc_count_1 ---> Done\n",
      "Card_Merchnum_desc amount variables over past 1 ---> Done\n",
      "Card_Merchnum_desc_count_3 ---> Done\n",
      "Card_Merchnum_desc amount variables over past 3 ---> Done\n",
      "Card_Merchnum_desc_count_7 ---> Done\n",
      "Card_Merchnum_desc amount variables over past 7 ---> Done\n",
      "Card_Merchnum_desc_count_14 ---> Done\n",
      "Card_Merchnum_desc amount variables over past 14 ---> Done\n",
      "Card_Merchnum_desc_count_30 ---> Done\n",
      "Card_Merchnum_desc amount variables over past 30 ---> Done\n",
      "Card_Merchnum_desc_count_60 ---> Done\n",
      "Card_Merchnum_desc amount variables over past 60 ---> Done\n",
      "Total run time: 3.147197531516819mins\n",
      "CPU times: user 2min 14s, sys: 58.4 s, total: 3min 12s\n",
      "Wall time: 3min 8s\n"
     ]
    }
   ],
   "source": [
    "%%time\n",
    "start = timeit.default_timer()\n",
    "for entity in entities:    \n",
    "    try: print(entity,'Run time for the this entity ----------------- {}s'.format(timeit.default_timer() - st))\n",
    "    except: print('')\n",
    "    st = timeit.default_timer()    \n",
    "\n",
    "# Day-since variables:   \n",
    "    df_l = df1[['Recnum', 'Date', entity]]\n",
    "    df_r = df1[['check_record', 'check_date', entity, 'Amount']]    \n",
    "    temp = pd.merge(df_l, df_r, on = entity)   \n",
    "    temp1 = temp[temp.Recnum > temp.check_record].groupby('Recnum')[['Date', 'check_date']].last()\n",
    "    mapper = (temp1.Date - temp1.check_date).dt.days\n",
    "    final[entity + '_day_since'] = final['Recnum'].map(mapper)\n",
    "    final[entity + '_day_since'].fillna((final.Date - pd.to_datetime('2006-01-01')).dt.days, inplace = True)\n",
    "    print('\\n' + entity + '_day_since ---> Done')  \n",
    "    \n",
    "# Frequency & Amount variables:   \n",
    "    for time in [0,1,3,7,14,30,60]:       \n",
    "        temp2 = temp[(temp.check_date >= (temp.Date - dt.timedelta(time))) &\\\n",
    "                       (temp.Recnum >= temp.check_record)][['Recnum', entity, 'Amount']]       \n",
    "        col_name = entity + '_count_' + str(time)    \n",
    "        mapper2 = temp2.groupby('Recnum')[entity].count()      \n",
    "        final[col_name] = final.Recnum.map(mapper2)        \n",
    "        print(col_name + ' ---> Done')       \n",
    "        final[entity + '_avg_' + str(time)] = final.Recnum.map(temp2.groupby('Recnum')['Amount'].mean())\n",
    "        final[entity + '_max_' + str(time)] = final.Recnum.map(temp2.groupby('Recnum')['Amount'].max())\n",
    "        final[entity + '_med_' + str(time)] = final.Recnum.map(temp2.groupby('Recnum')['Amount'].median())\n",
    "        final[entity + '_total_' + str(time)] = final.Recnum.map(temp2.groupby('Recnum')['Amount'].sum())\n",
    "        final[entity + '_actual/avg_' + str(time)] = final['Amount'] / final[entity + '_avg_' + str(time)]\n",
    "        final[entity + '_actual/max_' + str(time)] = final['Amount'] / final[entity + '_max_' + str(time)]\n",
    "        final[entity + '_actual/med_' + str(time)] = final['Amount'] / final[entity + '_med_' + str(time)]\n",
    "        final[entity + '_actual/toal_' + str(time)] = final['Amount'] / final[entity + '_total_' + str(time)]       \n",
    "        print(entity + ' amount variables over past ' + str(time) + ' ---> Done')\n",
    "    del df_l\n",
    "    del df_r\n",
    "    del temp\n",
    "    del temp1\n",
    "    del temp2\n",
    "    del mapper2  \n",
    "\n",
    "print('Total run time: {}mins'.format((timeit.default_timer() - start)/60))"
   ]
  },
  {
   "cell_type": "code",
   "execution_count": 19,
   "metadata": {},
   "outputs": [
    {
     "data": {
      "text/plain": [
       "(96397, 661)"
      ]
     },
     "execution_count": 19,
     "metadata": {},
     "output_type": "execute_result"
    }
   ],
   "source": [
    "final.shape"
   ]
  },
  {
   "cell_type": "code",
   "execution_count": 20,
   "metadata": {},
   "outputs": [
    {
     "name": "stdout",
     "output_type": "stream",
     "text": [
      "# new variables is  640\n"
     ]
    }
   ],
   "source": [
    "print('# new variables is ',len(final.columns) - numstart)\n",
    "numstart = len(final.columns)"
   ]
  },
  {
   "cell_type": "markdown",
   "metadata": {},
   "source": [
    "# VI. Velocity Variables - 160"
   ]
  },
  {
   "cell_type": "code",
   "execution_count": 21,
   "metadata": {},
   "outputs": [
    {
     "name": "stdout",
     "output_type": "stream",
     "text": [
      "run time: 2.0365661469986662s\n",
      "CPU times: user 1.97 s, sys: 68.7 ms, total: 2.04 s\n",
      "Wall time: 2.04 s\n"
     ]
    }
   ],
   "source": [
    "%%time\n",
    "start = timeit.default_timer()\n",
    "for ent in entities:\n",
    "    for d in ['0', '1']:\n",
    "        for dd in ['7', '14', '30', '60']:\n",
    "            final[ent + '_count_' + d + '_by_' + dd] =\\\n",
    "            final[ent + '_count_' + d]/(final[ent + '_count_' + dd])/float(dd)\n",
    "            final[ent + '_total_amount_'+d+'_by_' + dd]=\\\n",
    "            final[ent +'_total_'+d]/(final[ent+'_total_'+dd])/float(dd)\n",
    "            \n",
    "print('run time: {}s'.format(timeit.default_timer() - start))"
   ]
  },
  {
   "cell_type": "code",
   "execution_count": 22,
   "metadata": {},
   "outputs": [
    {
     "data": {
      "text/plain": [
       "(96397, 821)"
      ]
     },
     "execution_count": 22,
     "metadata": {},
     "output_type": "execute_result"
    }
   ],
   "source": [
    "final.shape"
   ]
  },
  {
   "cell_type": "code",
   "execution_count": 23,
   "metadata": {},
   "outputs": [
    {
     "name": "stdout",
     "output_type": "stream",
     "text": [
      "# new variables is  160\n"
     ]
    }
   ],
   "source": [
    "print('# new variables is ',len(final.columns) - numstart)\n",
    "numstart = len(final.columns)"
   ]
  },
  {
   "cell_type": "markdown",
   "metadata": {},
   "source": [
    "# V. Benford's law variables - 2"
   ]
  },
  {
   "cell_type": "code",
   "execution_count": 24,
   "metadata": {},
   "outputs": [
    {
     "data": {
      "text/plain": [
       "1    0.275973\n",
       "3    0.193678\n",
       "2    0.167827\n",
       "4    0.085874\n",
       "5    0.072150\n",
       "6    0.062419\n",
       "7    0.052149\n",
       "8    0.047035\n",
       "9    0.042896\n",
       "Name: first_digit, dtype: float64"
      ]
     },
     "execution_count": 24,
     "metadata": {},
     "output_type": "execute_result"
    }
   ],
   "source": [
    "# split out the first digit of Amount\n",
    "def first_digit(amount):\n",
    "    amount = str(amount*100)\n",
    "    first_d = int(amount[0])\n",
    "    return first_d\n",
    "df1['first_digit']=df1.Amount.apply(first_digit)\n",
    "df1['first_digit'].value_counts(normalize=True)"
   ]
  },
  {
   "cell_type": "code",
   "execution_count": 25,
   "metadata": {},
   "outputs": [],
   "source": [
    "df1['smallthan_3']=df1.first_digit.apply(lambda x:1 if x < 3 else 0)"
   ]
  },
  {
   "cell_type": "code",
   "execution_count": 26,
   "metadata": {},
   "outputs": [
    {
     "name": "stdout",
     "output_type": "stream",
     "text": [
      "CPU times: user 14.1 s, sys: 11.6 s, total: 25.7 s\n",
      "Wall time: 24.9 s\n"
     ]
    }
   ],
   "source": [
    "%%time\n",
    "\n",
    "final['is_fedex']=final['Merch description'].str.contains('FEDEX')\n",
    "c=3\n",
    "nmid=15\n",
    "for entity in ['Cardnum','Merchnum']:\n",
    "  col_name=f'benford_{entity}'\n",
    "  df_l=df1[['Recnum',entity]]\n",
    "  df_r=df1[['check_record',entity,'smallthan_3']]\n",
    "  temp=pd.merge(df_l,df_r,on=entity)\n",
    "  temp=temp[temp.check_record<=temp.Recnum]\n",
    "\n",
    "  temp['n']=temp.groupby('Recnum')['smallthan_3'].transform('count')\n",
    "  temp['n_low']=temp.groupby('Recnum')['smallthan_3'].transform('sum')\n",
    "  temp['n_high']=temp.n-temp.n_low\n",
    "  temp['n_low'][temp.n_low==0]=1\n",
    "  temp['n_high'][temp.n_high==0]=1\n",
    "  temp['R'] = 1.096*temp.n_low/temp.n_high\n",
    "  temp['R_inv'] = 1/temp.R\n",
    "  temp['benford']=temp[['R', 'R_inv']].max(axis=1)\n",
    "  U=temp[['Recnum','benford']].groupby('Recnum')['benford'].max()\n",
    "  n=temp.groupby('Recnum').size()\n",
    "  t=(n-nmid)/c\n",
    "  mapper=1+(U-1)/(1+np.exp(-t))\n",
    "  final[col_name]= final.Recnum.map(mapper)\n",
    "  final[col_name][final.is_fedex==1]=1\n",
    "final.drop('is_fedex',axis=1,inplace=True)\n",
    "\n",
    "del U,n,t"
   ]
  },
  {
   "cell_type": "markdown",
   "metadata": {},
   "source": [
    "# VI. Save file for 804 candidate variables"
   ]
  },
  {
   "cell_type": "code",
   "execution_count": 27,
   "metadata": {},
   "outputs": [
    {
     "data": {
      "text/plain": [
       "(96397, 822)"
      ]
     },
     "execution_count": 27,
     "metadata": {},
     "output_type": "execute_result"
    }
   ],
   "source": [
    "final.set_index('Recnum', inplace = True)\n",
    "final.shape"
   ]
  },
  {
   "cell_type": "code",
   "execution_count": 28,
   "metadata": {
    "scrolled": true
   },
   "outputs": [
    {
     "data": {
      "text/plain": [
       "Index(['Cardnum', 'Date', 'Merchnum', 'Merch description', 'Merch state',\n",
       "       'Merch zip', 'Transtype', 'Amount', 'Fraud', 'Dow',\n",
       "       ...\n",
       "       'Card_Merchnum_desc_count_1_by_7',\n",
       "       'Card_Merchnum_desc_total_amount_1_by_7',\n",
       "       'Card_Merchnum_desc_count_1_by_14',\n",
       "       'Card_Merchnum_desc_total_amount_1_by_14',\n",
       "       'Card_Merchnum_desc_count_1_by_30',\n",
       "       'Card_Merchnum_desc_total_amount_1_by_30',\n",
       "       'Card_Merchnum_desc_count_1_by_60',\n",
       "       'Card_Merchnum_desc_total_amount_1_by_60', 'benford_Cardnum',\n",
       "       'benford_Merchnum'],\n",
       "      dtype='object', length=822)"
      ]
     },
     "execution_count": 28,
     "metadata": {},
     "output_type": "execute_result"
    }
   ],
   "source": [
    "final.columns"
   ]
  },
  {
   "cell_type": "code",
   "execution_count": 29,
   "metadata": {},
   "outputs": [],
   "source": [
    "final_vars = final.iloc[:, np.r_[8, 10, 11, 20:len(final.columns)]]"
   ]
  },
  {
   "cell_type": "code",
   "execution_count": 30,
   "metadata": {
    "scrolled": true
   },
   "outputs": [
    {
     "data": {
      "text/html": [
       "<div>\n",
       "<style scoped>\n",
       "    .dataframe tbody tr th:only-of-type {\n",
       "        vertical-align: middle;\n",
       "    }\n",
       "\n",
       "    .dataframe tbody tr th {\n",
       "        vertical-align: top;\n",
       "    }\n",
       "\n",
       "    .dataframe thead th {\n",
       "        text-align: right;\n",
       "    }\n",
       "</style>\n",
       "<table border=\"1\" class=\"dataframe\">\n",
       "  <thead>\n",
       "    <tr style=\"text-align: right;\">\n",
       "      <th></th>\n",
       "      <th>Fraud</th>\n",
       "      <th>Dow_Risk</th>\n",
       "      <th>state_risk</th>\n",
       "      <th>Cardnum_day_since</th>\n",
       "      <th>Cardnum_count_0</th>\n",
       "      <th>Cardnum_avg_0</th>\n",
       "      <th>Cardnum_max_0</th>\n",
       "      <th>Cardnum_med_0</th>\n",
       "      <th>Cardnum_total_0</th>\n",
       "      <th>Cardnum_actual/avg_0</th>\n",
       "      <th>...</th>\n",
       "      <th>Card_Merchnum_desc_count_1_by_7</th>\n",
       "      <th>Card_Merchnum_desc_total_amount_1_by_7</th>\n",
       "      <th>Card_Merchnum_desc_count_1_by_14</th>\n",
       "      <th>Card_Merchnum_desc_total_amount_1_by_14</th>\n",
       "      <th>Card_Merchnum_desc_count_1_by_30</th>\n",
       "      <th>Card_Merchnum_desc_total_amount_1_by_30</th>\n",
       "      <th>Card_Merchnum_desc_count_1_by_60</th>\n",
       "      <th>Card_Merchnum_desc_total_amount_1_by_60</th>\n",
       "      <th>benford_Cardnum</th>\n",
       "      <th>benford_Merchnum</th>\n",
       "    </tr>\n",
       "    <tr>\n",
       "      <th>Recnum</th>\n",
       "      <th></th>\n",
       "      <th></th>\n",
       "      <th></th>\n",
       "      <th></th>\n",
       "      <th></th>\n",
       "      <th></th>\n",
       "      <th></th>\n",
       "      <th></th>\n",
       "      <th></th>\n",
       "      <th></th>\n",
       "      <th></th>\n",
       "      <th></th>\n",
       "      <th></th>\n",
       "      <th></th>\n",
       "      <th></th>\n",
       "      <th></th>\n",
       "      <th></th>\n",
       "      <th></th>\n",
       "      <th></th>\n",
       "      <th></th>\n",
       "      <th></th>\n",
       "    </tr>\n",
       "  </thead>\n",
       "  <tbody>\n",
       "    <tr>\n",
       "      <th>1</th>\n",
       "      <td>0</td>\n",
       "      <td>0.025994</td>\n",
       "      <td>0.007970</td>\n",
       "      <td>0.0</td>\n",
       "      <td>1</td>\n",
       "      <td>3.62</td>\n",
       "      <td>3.62</td>\n",
       "      <td>3.62</td>\n",
       "      <td>3.62</td>\n",
       "      <td>1.0</td>\n",
       "      <td>...</td>\n",
       "      <td>0.142857</td>\n",
       "      <td>0.142857</td>\n",
       "      <td>0.071429</td>\n",
       "      <td>0.071429</td>\n",
       "      <td>0.033333</td>\n",
       "      <td>0.033333</td>\n",
       "      <td>0.016667</td>\n",
       "      <td>0.016667</td>\n",
       "      <td>1.000000</td>\n",
       "      <td>1.000000</td>\n",
       "    </tr>\n",
       "    <tr>\n",
       "      <th>2</th>\n",
       "      <td>0</td>\n",
       "      <td>0.025994</td>\n",
       "      <td>0.003304</td>\n",
       "      <td>0.0</td>\n",
       "      <td>1</td>\n",
       "      <td>31.42</td>\n",
       "      <td>31.42</td>\n",
       "      <td>31.42</td>\n",
       "      <td>31.42</td>\n",
       "      <td>1.0</td>\n",
       "      <td>...</td>\n",
       "      <td>0.142857</td>\n",
       "      <td>0.142857</td>\n",
       "      <td>0.071429</td>\n",
       "      <td>0.071429</td>\n",
       "      <td>0.033333</td>\n",
       "      <td>0.033333</td>\n",
       "      <td>0.016667</td>\n",
       "      <td>0.016667</td>\n",
       "      <td>1.000894</td>\n",
       "      <td>1.000894</td>\n",
       "    </tr>\n",
       "    <tr>\n",
       "      <th>3</th>\n",
       "      <td>0</td>\n",
       "      <td>0.025994</td>\n",
       "      <td>0.017282</td>\n",
       "      <td>0.0</td>\n",
       "      <td>1</td>\n",
       "      <td>178.49</td>\n",
       "      <td>178.49</td>\n",
       "      <td>178.49</td>\n",
       "      <td>178.49</td>\n",
       "      <td>1.0</td>\n",
       "      <td>...</td>\n",
       "      <td>0.142857</td>\n",
       "      <td>0.142857</td>\n",
       "      <td>0.071429</td>\n",
       "      <td>0.071429</td>\n",
       "      <td>0.033333</td>\n",
       "      <td>0.033333</td>\n",
       "      <td>0.016667</td>\n",
       "      <td>0.016667</td>\n",
       "      <td>1.000894</td>\n",
       "      <td>1.000894</td>\n",
       "    </tr>\n",
       "    <tr>\n",
       "      <th>4</th>\n",
       "      <td>0</td>\n",
       "      <td>0.025994</td>\n",
       "      <td>0.007970</td>\n",
       "      <td>0.0</td>\n",
       "      <td>1</td>\n",
       "      <td>3.62</td>\n",
       "      <td>3.62</td>\n",
       "      <td>3.62</td>\n",
       "      <td>3.62</td>\n",
       "      <td>1.0</td>\n",
       "      <td>...</td>\n",
       "      <td>0.142857</td>\n",
       "      <td>0.142857</td>\n",
       "      <td>0.071429</td>\n",
       "      <td>0.071429</td>\n",
       "      <td>0.033333</td>\n",
       "      <td>0.033333</td>\n",
       "      <td>0.016667</td>\n",
       "      <td>0.016667</td>\n",
       "      <td>1.000000</td>\n",
       "      <td>1.000000</td>\n",
       "    </tr>\n",
       "    <tr>\n",
       "      <th>5</th>\n",
       "      <td>0</td>\n",
       "      <td>0.025994</td>\n",
       "      <td>0.007970</td>\n",
       "      <td>0.0</td>\n",
       "      <td>2</td>\n",
       "      <td>3.62</td>\n",
       "      <td>3.62</td>\n",
       "      <td>3.62</td>\n",
       "      <td>7.24</td>\n",
       "      <td>1.0</td>\n",
       "      <td>...</td>\n",
       "      <td>0.142857</td>\n",
       "      <td>0.142857</td>\n",
       "      <td>0.071429</td>\n",
       "      <td>0.071429</td>\n",
       "      <td>0.033333</td>\n",
       "      <td>0.033333</td>\n",
       "      <td>0.016667</td>\n",
       "      <td>0.016667</td>\n",
       "      <td>1.000000</td>\n",
       "      <td>1.000000</td>\n",
       "    </tr>\n",
       "  </tbody>\n",
       "</table>\n",
       "<p>5 rows × 805 columns</p>\n",
       "</div>"
      ],
      "text/plain": [
       "        Fraud  Dow_Risk  state_risk  Cardnum_day_since  Cardnum_count_0  \\\n",
       "Recnum                                                                    \n",
       "1           0  0.025994    0.007970                0.0                1   \n",
       "2           0  0.025994    0.003304                0.0                1   \n",
       "3           0  0.025994    0.017282                0.0                1   \n",
       "4           0  0.025994    0.007970                0.0                1   \n",
       "5           0  0.025994    0.007970                0.0                2   \n",
       "\n",
       "        Cardnum_avg_0  Cardnum_max_0  Cardnum_med_0  Cardnum_total_0  \\\n",
       "Recnum                                                                 \n",
       "1                3.62           3.62           3.62             3.62   \n",
       "2               31.42          31.42          31.42            31.42   \n",
       "3              178.49         178.49         178.49           178.49   \n",
       "4                3.62           3.62           3.62             3.62   \n",
       "5                3.62           3.62           3.62             7.24   \n",
       "\n",
       "        Cardnum_actual/avg_0  ...  Card_Merchnum_desc_count_1_by_7  \\\n",
       "Recnum                        ...                                    \n",
       "1                        1.0  ...                         0.142857   \n",
       "2                        1.0  ...                         0.142857   \n",
       "3                        1.0  ...                         0.142857   \n",
       "4                        1.0  ...                         0.142857   \n",
       "5                        1.0  ...                         0.142857   \n",
       "\n",
       "        Card_Merchnum_desc_total_amount_1_by_7  \\\n",
       "Recnum                                           \n",
       "1                                     0.142857   \n",
       "2                                     0.142857   \n",
       "3                                     0.142857   \n",
       "4                                     0.142857   \n",
       "5                                     0.142857   \n",
       "\n",
       "        Card_Merchnum_desc_count_1_by_14  \\\n",
       "Recnum                                     \n",
       "1                               0.071429   \n",
       "2                               0.071429   \n",
       "3                               0.071429   \n",
       "4                               0.071429   \n",
       "5                               0.071429   \n",
       "\n",
       "        Card_Merchnum_desc_total_amount_1_by_14  \\\n",
       "Recnum                                            \n",
       "1                                      0.071429   \n",
       "2                                      0.071429   \n",
       "3                                      0.071429   \n",
       "4                                      0.071429   \n",
       "5                                      0.071429   \n",
       "\n",
       "        Card_Merchnum_desc_count_1_by_30  \\\n",
       "Recnum                                     \n",
       "1                               0.033333   \n",
       "2                               0.033333   \n",
       "3                               0.033333   \n",
       "4                               0.033333   \n",
       "5                               0.033333   \n",
       "\n",
       "        Card_Merchnum_desc_total_amount_1_by_30  \\\n",
       "Recnum                                            \n",
       "1                                      0.033333   \n",
       "2                                      0.033333   \n",
       "3                                      0.033333   \n",
       "4                                      0.033333   \n",
       "5                                      0.033333   \n",
       "\n",
       "        Card_Merchnum_desc_count_1_by_60  \\\n",
       "Recnum                                     \n",
       "1                               0.016667   \n",
       "2                               0.016667   \n",
       "3                               0.016667   \n",
       "4                               0.016667   \n",
       "5                               0.016667   \n",
       "\n",
       "        Card_Merchnum_desc_total_amount_1_by_60  benford_Cardnum  \\\n",
       "Recnum                                                             \n",
       "1                                      0.016667         1.000000   \n",
       "2                                      0.016667         1.000894   \n",
       "3                                      0.016667         1.000894   \n",
       "4                                      0.016667         1.000000   \n",
       "5                                      0.016667         1.000000   \n",
       "\n",
       "        benford_Merchnum  \n",
       "Recnum                    \n",
       "1               1.000000  \n",
       "2               1.000894  \n",
       "3               1.000894  \n",
       "4               1.000000  \n",
       "5               1.000000  \n",
       "\n",
       "[5 rows x 805 columns]"
      ]
     },
     "execution_count": 30,
     "metadata": {},
     "output_type": "execute_result"
    }
   ],
   "source": [
    "final_vars.head()"
   ]
  },
  {
   "cell_type": "code",
   "execution_count": 31,
   "metadata": {},
   "outputs": [
    {
     "data": {
      "text/plain": [
       "(96397, 805)"
      ]
     },
     "execution_count": 31,
     "metadata": {},
     "output_type": "execute_result"
    }
   ],
   "source": [
    "final_vars.shape"
   ]
  },
  {
   "cell_type": "code",
   "execution_count": 32,
   "metadata": {},
   "outputs": [],
   "source": [
    "final_vars.to_csv('candidate_variables.csv')"
   ]
  },
  {
   "cell_type": "code",
   "execution_count": 33,
   "metadata": {},
   "outputs": [
    {
     "name": "stdout",
     "output_type": "stream",
     "text": [
      "Duration:  0:04:55.216574\n"
     ]
    }
   ],
   "source": [
    "print('Duration: ', pd.datetime.now() - start_time)"
   ]
  }
 ],
 "metadata": {
  "kernelspec": {
   "display_name": "Python 3 (ipykernel)",
   "language": "python",
   "name": "python3"
  },
  "language_info": {
   "codemirror_mode": {
    "name": "ipython",
    "version": 3
   },
   "file_extension": ".py",
   "mimetype": "text/x-python",
   "name": "python",
   "nbconvert_exporter": "python",
   "pygments_lexer": "ipython3",
   "version": "3.10.4"
  }
 },
 "nbformat": 4,
 "nbformat_minor": 2
}
